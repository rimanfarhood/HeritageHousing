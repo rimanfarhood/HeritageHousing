{
  "cells": [
    {
      "cell_type": "markdown",
      "metadata": {
        "id": "0aStgWSO0E0E"
      },
      "source": [
        "# Housing Sales Price Study Notebook"
      ]
    },
    {
      "cell_type": "markdown",
      "metadata": {
        "id": "1eLEkw5O0ECa"
      },
      "source": [
        "## Objectives\n",
        "*   Answer business requirement 1: \n",
        "    * The client is interested to understand the patterns from the house attributes, so the client can learn the most relevant variables that are correlated to  SalePrice.\n",
        "    * Visualize the relevant variables against the SalePrice.\n",
        "\n",
        "## Inputs\n",
        "\n",
        "* outputs/datasets/collection/HousePricing.csv\n",
        "\n",
        "## Outputs\n",
        "\n",
        "* generate code that answers business requirement 1 and can be used to build the Streamlit App\n",
        "\n",
        "## Additional\n",
        "\n",
        "* The study will be performed on the raw dataset, the dataset will be studied before and after any changes  "
      ]
    },
    {
      "cell_type": "markdown",
      "metadata": {
        "id": "9uWZXH9LwoQg"
      },
      "source": [
        "---"
      ]
    },
    {
      "cell_type": "markdown",
      "metadata": {},
      "source": [
        "# Change working directory"
      ]
    },
    {
      "cell_type": "markdown",
      "metadata": {},
      "source": [
        "We need to change the working directory from its current folder to its parent folder\n",
        "* We access the current directory with os.getcwd()"
      ]
    },
    {
      "cell_type": "code",
      "execution_count": null,
      "metadata": {},
      "outputs": [],
      "source": [
        "import os\n",
        "current_dir = os.getcwd()\n",
        "current_dir"
      ]
    },
    {
      "cell_type": "markdown",
      "metadata": {},
      "source": [
        "We want to make the parent of the current directory the new current directory\n",
        "* os.path.dirname() gets the parent directory\n",
        "* os.chir() defines the new current directory"
      ]
    },
    {
      "cell_type": "code",
      "execution_count": null,
      "metadata": {},
      "outputs": [],
      "source": [
        "os.chdir(os.path.dirname(current_dir))\n",
        "print(\"You set a new current directory\")"
      ]
    },
    {
      "cell_type": "markdown",
      "metadata": {},
      "source": [
        "Confirm the new current directory"
      ]
    },
    {
      "cell_type": "code",
      "execution_count": null,
      "metadata": {},
      "outputs": [],
      "source": [
        "current_dir = os.getcwd()\n",
        "current_dir"
      ]
    },
    {
      "cell_type": "markdown",
      "metadata": {},
      "source": [
        "### Import Libraries"
      ]
    },
    {
      "cell_type": "code",
      "execution_count": null,
      "metadata": {},
      "outputs": [],
      "source": [
        "import numpy as np\n",
        "import pandas as pd\n",
        "import seaborn as sns\n",
        "import warnings\n",
        "import matplotlib.pyplot as plt\n",
        "%matplotlib inline\n",
        "warnings.filterwarnings('ignore')\n"
      ]
    },
    {
      "cell_type": "markdown",
      "metadata": {
        "id": "_tdAGw4Zwssu"
      },
      "source": [
        "---"
      ]
    },
    {
      "cell_type": "markdown",
      "metadata": {
        "id": "t2oPUd1K_qCr"
      },
      "source": [
        "# Load Data"
      ]
    },
    {
      "cell_type": "markdown",
      "metadata": {},
      "source": [
        "Function to scroll and see all rows "
      ]
    },
    {
      "cell_type": "code",
      "execution_count": null,
      "metadata": {
        "colab": {
          "base_uri": "https://localhost:8080/"
        },
        "id": "oqqga261_w4N",
        "outputId": "a936deda-749e-4926-c6a0-c857edfb43ae"
      },
      "outputs": [],
      "source": [
        "import pandas as pd\n",
        "#df = pd.read_csv(\"outputs/datasets/collection/HousePricing.csv\")\n",
        "df = pd.read_csv(\"outputs/datasets/HousePricing.csv\")\n",
        "df.info()"
      ]
    },
    {
      "cell_type": "markdown",
      "metadata": {
        "id": "xsBHpBFJ0ZFa"
      },
      "source": [
        "# Data Exploration"
      ]
    },
    {
      "cell_type": "markdown",
      "metadata": {},
      "source": [
        "We are interested to get more familiar with the dataset, check variable type and distribution, missing levels and what these variables mean in a business context"
      ]
    },
    {
      "cell_type": "code",
      "execution_count": null,
      "metadata": {
        "id": "ncii4qR90aS1"
      },
      "outputs": [],
      "source": [
        "from ydata_profiling import ProfileReport\n",
        "pandas_report = ProfileReport(df=df, minimal=True)\n",
        "pandas_report.to_notebook_iframe()"
      ]
    },
    {
      "cell_type": "markdown",
      "metadata": {
        "id": "DceTmVKMzHZV"
      },
      "source": [
        "# Correlation Study"
      ]
    },
    {
      "cell_type": "markdown",
      "metadata": {},
      "source": [
        "Correlation analysis function"
      ]
    },
    {
      "cell_type": "code",
      "execution_count": null,
      "metadata": {},
      "outputs": [],
      "source": [
        "def Correlation(df, method, key=False, ascending=True):\n",
        "    correlation = df.corr(method=method)['SalePrice'].sort_values(key=key, ascending=ascending)[1:]\n",
        "    \n",
        "    return correlation"
      ]
    },
    {
      "cell_type": "markdown",
      "metadata": {},
      "source": [
        "First we will have to replace `NaN` Values to be able to use the One hot Encoder"
      ]
    },
    {
      "cell_type": "code",
      "execution_count": null,
      "metadata": {},
      "outputs": [],
      "source": [
        "ohe = df.fillna('Missing', inplace=False)"
      ]
    },
    {
      "cell_type": "code",
      "execution_count": null,
      "metadata": {
        "colab": {
          "base_uri": "https://localhost:8080/",
          "height": 214
        },
        "id": "nLKtmzubuK2Z",
        "outputId": "a2698dac-c7f4-4d0f-febc-aca1c3cd7e4b"
      },
      "outputs": [],
      "source": [
        "from feature_engine.encoding import OneHotEncoder\n",
        "encoder = OneHotEncoder(variables=ohe.columns[ohe.dtypes=='object'].to_list(), drop_last=False)\n",
        "df_ohe = encoder.fit_transform(ohe)\n",
        "df_ohe.head(3)\n"
      ]
    },
    {
      "cell_type": "code",
      "execution_count": null,
      "metadata": {},
      "outputs": [],
      "source": [
        "spearman = Correlation(df_ohe, 'spearman', key=abs, ascending=False)\n",
        "spearman[:20]"
      ]
    },
    {
      "cell_type": "code",
      "execution_count": null,
      "metadata": {},
      "outputs": [],
      "source": [
        "pearson = Correlation(df_ohe, 'pearson', key=abs,ascending=False)\n",
        "pearson[:20]"
      ]
    },
    {
      "cell_type": "markdown",
      "metadata": {
        "id": "KHrTrQYO0px_"
      },
      "source": [
        "* We can se higher negative correlations that we will further explore \n",
        "\n",
        "We will consider the top positive and negative correlation levels at `df_ohe` and will study the associated variables at `df`"
      ]
    },
    {
      "cell_type": "markdown",
      "metadata": {
        "id": "0vz-wC9e2I-z"
      },
      "source": [
        "Therefore we are studying at df the following variables. We will investigate:\n",
        "\n",
        "Positive Correlation:\n",
        "* The Sale price with 1stFlrSF \n",
        "* The Sales Price with OverallQual\n",
        "* The Sales Price with GrLivArea\n",
        "* The Sales Price with GarageArea\n",
        "* The Sales Price with TotalBsmtSF\n",
        "* The Sales Price with YearBuilt \n",
        "\n",
        "Negative Correlation:\n",
        "* The Sale price with KitchenQual_TA\n",
        "* The Sales Price with GarageFinish_Unf\n",
        "* The Sales Price with MasVnrArea_0.0\n",
        "* The Sales Price with GarageYrBlt_Missing\n",
        "* The Sales Price with GarageFinish_None\n",
        "\n",
        "We will not furthur study 'YearRemodAdd' since we won't be able to determine if it's same as construction date if no remodeling or additions"
      ]
    },
    {
      "cell_type": "code",
      "execution_count": null,
      "metadata": {
        "colab": {
          "base_uri": "https://localhost:8080/"
        },
        "id": "iHKRE6E32NPv",
        "outputId": "39ab0829-d47b-4c62-e7e2-859574080737"
      },
      "outputs": [],
      "source": [
        "vars_to_study = [     \n",
        "    '1stFlrSF', 'GarageArea', \n",
        "    'GrLivArea', 'OverallQual', \n",
        "    'TotalBsmtSF', 'YearBuilt', \n",
        "]"
      ]
    },
    {
      "cell_type": "markdown",
      "metadata": {
        "id": "IV2d12vC0Puq"
      },
      "source": [
        "# EDA on selected variables"
      ]
    },
    {
      "cell_type": "code",
      "execution_count": null,
      "metadata": {
        "colab": {
          "base_uri": "https://localhost:8080/",
          "height": 419
        },
        "id": "wpIgK8rxAbdR",
        "outputId": "e11c7684-df93-4e53-b8e4-dd287c4ce915"
      },
      "outputs": [],
      "source": [
        "df_eda = df_ohe.filter(vars_to_study + ['SalePrice'])"
      ]
    },
    {
      "cell_type": "markdown",
      "metadata": {
        "id": "y7NNXfA10mx2"
      },
      "source": [
        "## Variables Distribution by SalePrice"
      ]
    },
    {
      "cell_type": "markdown",
      "metadata": {
        "id": "GIITMZ-3AGoY"
      },
      "source": [
        "- We plot the distribution by SalePrice  "
      ]
    },
    {
      "cell_type": "code",
      "execution_count": null,
      "metadata": {},
      "outputs": [],
      "source": [
        "plt.figure(figsize=(15,10))\n",
        "\n",
        "for i, attribute in enumerate(vars_to_study, 1):\n",
        "    plt.subplot(2,3, i)\n",
        "    sns.scatterplot(data=df_eda, x=df_eda[attribute], y=df['SalePrice'], hue='SalePrice')\n",
        "    plt.title(f'Sale Price vs. {attribute}')\n",
        "    plt.xlabel(attribute)\n",
        "    plt.ylabel('Sale Price')\n",
        "\n",
        "plt.tight_layout()\n",
        "plt.show()"
      ]
    },
    {
      "cell_type": "code",
      "execution_count": null,
      "metadata": {},
      "outputs": [],
      "source": [
        "feat_study = ['KitchenQual_TA', 'GarageFinish_Unf',\n",
        "'MasVnrArea_0.0','GarageYrBlt_Missing',\n",
        "'GarageFinish_None']\n",
        "\n",
        "plt.figure(figsize=(20,15))\n",
        "for i, feature in enumerate(feat_study, 1):\n",
        "    plt.subplot(3,3, i)\n",
        "    sns.barplot(data=df_eda, x=df_eda[feature], y='SalePrice')\n",
        "    #plt.xticks(rotation=90)\n",
        "    plt.title(f'Sale Price by {feature}')\n",
        "    plt.xlabel(feature)\n",
        "    plt.ylabel('Sale Price')\n",
        "\n",
        "\n",
        "plt.show()"
      ]
    },
    {
      "cell_type": "markdown",
      "metadata": {
        "id": "ua0-YwyMCtDy"
      },
      "source": [
        "---"
      ]
    },
    {
      "cell_type": "markdown",
      "metadata": {
        "id": "6jkAa1rpCLbY"
      },
      "source": [
        "# Conclusions and Next steps"
      ]
    },
    {
      "cell_type": "markdown",
      "metadata": {
        "id": "YX7YiPhWCNmc"
      },
      "source": [
        "The correlations and plots interpretation converge. \n",
        "\n",
        "**Top Positive correlated features**\n",
        "\n",
        "- Houses with larger garages (GarageArea) are likely to have a higher Sale Price, indicating that buyers value spacious garages.\n",
        "\n",
        "- An increase in total basement square footage (TotalBsmtSF) often leads to an increase in the Sale Price, which indicates that basement area is an important factor in house valuation.\n",
        "\n",
        "- The Sale Price tends to rise with the size of the first floor (1stFlrSF), which shows the significance of main-level living space in the housing market.\n",
        "\n",
        "- The Sale Price tends to be higher for houses with better Overall Quality (OverallQual), affirming that quality is a crucial determinant of property value.\n",
        "\n",
        "- An increase in above-grade living area (GrLivArea) leads to a rise in the Sale Price, which reflects the market's valuation of living space.\n",
        "\n",
        "- The sale price tends to increase the more up to date the year that they were built (YearBuilt). \n",
        "\n",
        "**Top Negative correlated features**\n",
        "\n",
        "- 'KitchenQual_TA'indicates that the Sale Price of houses with average kitchen quality tends to decrease.\n",
        "\n",
        "- The Sale Price is typically lower when the garage finish is not finished, as shown by 'GarageFinish_Unf'.\n",
        "\n",
        "- Houses without any masonry veneer area tend to have a lower Sale Price, indicated by 'MasVnrArea_0.0'.\n",
        "\n",
        "- The without the records of the year the garage was built tend to decrease referred to as 'GarageYrBlt_Missing', often see a decrease in their Sale Price.\n",
        "\n",
        "- The Sale Price usually decreases on houses without garages,  based on 'GarageFinish_None'.\n",
        "\n",
        "**Buyers are willing to pay premiums for more space and higher quality in homes, as these patterns demonstrate the significance of size and quality in valuation.**"
      ]
    },
    {
      "cell_type": "markdown",
      "metadata": {
        "id": "vVOqV5ADZjD1"
      },
      "source": [
        "---"
      ]
    }
  ],
  "metadata": {
    "accelerator": "GPU",
    "colab": {
      "name": "Data Practitioner Jupyter Notebook.ipynb",
      "provenance": []
    },
    "interpreter": {
      "hash": "8b8334dab9339717f727a1deaf837b322d7a41c20d15cc86be99a8e69ceec8ce"
    },
    "kernelspec": {
      "display_name": "Python 3.8.12 64-bit ('3.8.12': pyenv)",
      "name": "python3"
    },
    "language_info": {
      "codemirror_mode": {
        "name": "ipython",
        "version": 3
      },
      "file_extension": ".py",
      "mimetype": "text/x-python",
      "name": "python",
      "nbconvert_exporter": "python",
      "pygments_lexer": "ipython3",
      "version": "3.10.12"
    },
    "orig_nbformat": 2
  },
  "nbformat": 4,
  "nbformat_minor": 2
}
